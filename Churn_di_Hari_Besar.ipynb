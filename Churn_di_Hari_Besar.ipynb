{
  "cells": [
    {
      "cell_type": "markdown",
      "metadata": {
        "id": "view-in-github",
        "colab_type": "text"
      },
      "source": [
        "<a href=\"https://colab.research.google.com/github/najlaatikahdwirahma/CapstoneProject_StartupCampus/blob/main/Churn_di_Hari_Besar.ipynb\" target=\"_parent\"><img src=\"https://colab.research.google.com/assets/colab-badge.svg\" alt=\"Open In Colab\"/></a>"
      ]
    },
    {
      "cell_type": "code",
      "execution_count": null,
      "metadata": {
        "colab": {
          "base_uri": "https://localhost:8080/"
        },
        "id": "t-ZhFjqunl-X",
        "outputId": "41eb5835-c283-4cc4-a9cd-3cc5f23f567e"
      },
      "outputs": [
        {
          "output_type": "stream",
          "name": "stdout",
          "text": [
            "Drive already mounted at /content/drive; to attempt to forcibly remount, call drive.mount(\"/content/drive\", force_remount=True).\n"
          ]
        }
      ],
      "source": [
        "import pandas as pd\n",
        "from google.colab import drive\n",
        "drive.mount('/content/drive')"
      ]
    },
    {
      "cell_type": "code",
      "execution_count": null,
      "metadata": {
        "colab": {
          "base_uri": "https://localhost:8080/",
          "height": 219
        },
        "id": "CnZ1xHeHntJL",
        "outputId": "2cb55777-e7b5-4463-c763-5444062c7660"
      },
      "outputs": [
        {
          "output_type": "execute_result",
          "data": {
            "text/plain": [
              "   customer_id first_name   last_name                              username  \\\n",
              "0         2870       Lala     Maryati  671a0865-ac4e-4dc4-9c4f-c286a1176f7e   \n",
              "1         8193   Maimunah  Laksmiwati  83be2ba7-8133-48a4-bbcb-b46a2762473f   \n",
              "\n",
              "                                               email gender  birthdate  \\\n",
              "0  671a0865_ac4e_4dc4_9c4f_c286a1176f7e@startupca...      F 1996-06-14   \n",
              "1  83be2ba7_8133_48a4_bbcb_b46a2762473f@zakyfound...      F 1993-08-16   \n",
              "\n",
              "  device_type                             device_id  \\\n",
              "0         iOS  c9c0de76-0a6c-4ac2-843f-65264ab9fe63   \n",
              "1     Android  fb331c3d-f42e-40fe-afe2-b4b73a8a6e25   \n",
              "\n",
              "                               device_version  home_location_lat  \\\n",
              "0  iPhone; CPU iPhone OS 14_2_1 like Mac OS X          -1.043345   \n",
              "1                               Android 2.2.1          -6.212489   \n",
              "\n",
              "   home_location_long   home_location home_country first_join_date  umur  \\\n",
              "0          101.360523  Sumatera Barat    Indonesia      2019-07-21    27   \n",
              "1          106.818850    Jakarta Raya    Indonesia      2017-07-16    30   \n",
              "\n",
              "   subscription_duration  average_spending spending_category  \n",
              "0               4.323288               NaN              None  \n",
              "1               6.336986               NaN              None  "
            ],
            "text/html": [
              "\n",
              "  <div id=\"df-9eedab05-9c99-493b-beec-ad12251d2086\" class=\"colab-df-container\">\n",
              "    <div>\n",
              "<style scoped>\n",
              "    .dataframe tbody tr th:only-of-type {\n",
              "        vertical-align: middle;\n",
              "    }\n",
              "\n",
              "    .dataframe tbody tr th {\n",
              "        vertical-align: top;\n",
              "    }\n",
              "\n",
              "    .dataframe thead th {\n",
              "        text-align: right;\n",
              "    }\n",
              "</style>\n",
              "<table border=\"1\" class=\"dataframe\">\n",
              "  <thead>\n",
              "    <tr style=\"text-align: right;\">\n",
              "      <th></th>\n",
              "      <th>customer_id</th>\n",
              "      <th>first_name</th>\n",
              "      <th>last_name</th>\n",
              "      <th>username</th>\n",
              "      <th>email</th>\n",
              "      <th>gender</th>\n",
              "      <th>birthdate</th>\n",
              "      <th>device_type</th>\n",
              "      <th>device_id</th>\n",
              "      <th>device_version</th>\n",
              "      <th>home_location_lat</th>\n",
              "      <th>home_location_long</th>\n",
              "      <th>home_location</th>\n",
              "      <th>home_country</th>\n",
              "      <th>first_join_date</th>\n",
              "      <th>umur</th>\n",
              "      <th>subscription_duration</th>\n",
              "      <th>average_spending</th>\n",
              "      <th>spending_category</th>\n",
              "    </tr>\n",
              "  </thead>\n",
              "  <tbody>\n",
              "    <tr>\n",
              "      <th>0</th>\n",
              "      <td>2870</td>\n",
              "      <td>Lala</td>\n",
              "      <td>Maryati</td>\n",
              "      <td>671a0865-ac4e-4dc4-9c4f-c286a1176f7e</td>\n",
              "      <td>671a0865_ac4e_4dc4_9c4f_c286a1176f7e@startupca...</td>\n",
              "      <td>F</td>\n",
              "      <td>1996-06-14</td>\n",
              "      <td>iOS</td>\n",
              "      <td>c9c0de76-0a6c-4ac2-843f-65264ab9fe63</td>\n",
              "      <td>iPhone; CPU iPhone OS 14_2_1 like Mac OS X</td>\n",
              "      <td>-1.043345</td>\n",
              "      <td>101.360523</td>\n",
              "      <td>Sumatera Barat</td>\n",
              "      <td>Indonesia</td>\n",
              "      <td>2019-07-21</td>\n",
              "      <td>27</td>\n",
              "      <td>4.323288</td>\n",
              "      <td>NaN</td>\n",
              "      <td>None</td>\n",
              "    </tr>\n",
              "    <tr>\n",
              "      <th>1</th>\n",
              "      <td>8193</td>\n",
              "      <td>Maimunah</td>\n",
              "      <td>Laksmiwati</td>\n",
              "      <td>83be2ba7-8133-48a4-bbcb-b46a2762473f</td>\n",
              "      <td>83be2ba7_8133_48a4_bbcb_b46a2762473f@zakyfound...</td>\n",
              "      <td>F</td>\n",
              "      <td>1993-08-16</td>\n",
              "      <td>Android</td>\n",
              "      <td>fb331c3d-f42e-40fe-afe2-b4b73a8a6e25</td>\n",
              "      <td>Android 2.2.1</td>\n",
              "      <td>-6.212489</td>\n",
              "      <td>106.818850</td>\n",
              "      <td>Jakarta Raya</td>\n",
              "      <td>Indonesia</td>\n",
              "      <td>2017-07-16</td>\n",
              "      <td>30</td>\n",
              "      <td>6.336986</td>\n",
              "      <td>NaN</td>\n",
              "      <td>None</td>\n",
              "    </tr>\n",
              "  </tbody>\n",
              "</table>\n",
              "</div>\n",
              "    <div class=\"colab-df-buttons\">\n",
              "\n",
              "  <div class=\"colab-df-container\">\n",
              "    <button class=\"colab-df-convert\" onclick=\"convertToInteractive('df-9eedab05-9c99-493b-beec-ad12251d2086')\"\n",
              "            title=\"Convert this dataframe to an interactive table.\"\n",
              "            style=\"display:none;\">\n",
              "\n",
              "  <svg xmlns=\"http://www.w3.org/2000/svg\" height=\"24px\" viewBox=\"0 -960 960 960\">\n",
              "    <path d=\"M120-120v-720h720v720H120Zm60-500h600v-160H180v160Zm220 220h160v-160H400v160Zm0 220h160v-160H400v160ZM180-400h160v-160H180v160Zm440 0h160v-160H620v160ZM180-180h160v-160H180v160Zm440 0h160v-160H620v160Z\"/>\n",
              "  </svg>\n",
              "    </button>\n",
              "\n",
              "  <style>\n",
              "    .colab-df-container {\n",
              "      display:flex;\n",
              "      gap: 12px;\n",
              "    }\n",
              "\n",
              "    .colab-df-convert {\n",
              "      background-color: #E8F0FE;\n",
              "      border: none;\n",
              "      border-radius: 50%;\n",
              "      cursor: pointer;\n",
              "      display: none;\n",
              "      fill: #1967D2;\n",
              "      height: 32px;\n",
              "      padding: 0 0 0 0;\n",
              "      width: 32px;\n",
              "    }\n",
              "\n",
              "    .colab-df-convert:hover {\n",
              "      background-color: #E2EBFA;\n",
              "      box-shadow: 0px 1px 2px rgba(60, 64, 67, 0.3), 0px 1px 3px 1px rgba(60, 64, 67, 0.15);\n",
              "      fill: #174EA6;\n",
              "    }\n",
              "\n",
              "    .colab-df-buttons div {\n",
              "      margin-bottom: 4px;\n",
              "    }\n",
              "\n",
              "    [theme=dark] .colab-df-convert {\n",
              "      background-color: #3B4455;\n",
              "      fill: #D2E3FC;\n",
              "    }\n",
              "\n",
              "    [theme=dark] .colab-df-convert:hover {\n",
              "      background-color: #434B5C;\n",
              "      box-shadow: 0px 1px 3px 1px rgba(0, 0, 0, 0.15);\n",
              "      filter: drop-shadow(0px 1px 2px rgba(0, 0, 0, 0.3));\n",
              "      fill: #FFFFFF;\n",
              "    }\n",
              "  </style>\n",
              "\n",
              "    <script>\n",
              "      const buttonEl =\n",
              "        document.querySelector('#df-9eedab05-9c99-493b-beec-ad12251d2086 button.colab-df-convert');\n",
              "      buttonEl.style.display =\n",
              "        google.colab.kernel.accessAllowed ? 'block' : 'none';\n",
              "\n",
              "      async function convertToInteractive(key) {\n",
              "        const element = document.querySelector('#df-9eedab05-9c99-493b-beec-ad12251d2086');\n",
              "        const dataTable =\n",
              "          await google.colab.kernel.invokeFunction('convertToInteractive',\n",
              "                                                    [key], {});\n",
              "        if (!dataTable) return;\n",
              "\n",
              "        const docLinkHtml = 'Like what you see? Visit the ' +\n",
              "          '<a target=\"_blank\" href=https://colab.research.google.com/notebooks/data_table.ipynb>data table notebook</a>'\n",
              "          + ' to learn more about interactive tables.';\n",
              "        element.innerHTML = '';\n",
              "        dataTable['output_type'] = 'display_data';\n",
              "        await google.colab.output.renderOutput(dataTable, element);\n",
              "        const docLink = document.createElement('div');\n",
              "        docLink.innerHTML = docLinkHtml;\n",
              "        element.appendChild(docLink);\n",
              "      }\n",
              "    </script>\n",
              "  </div>\n",
              "\n",
              "\n",
              "<div id=\"df-49d7e476-762b-4483-80f7-fa11122ea875\">\n",
              "  <button class=\"colab-df-quickchart\" onclick=\"quickchart('df-49d7e476-762b-4483-80f7-fa11122ea875')\"\n",
              "            title=\"Suggest charts\"\n",
              "            style=\"display:none;\">\n",
              "\n",
              "<svg xmlns=\"http://www.w3.org/2000/svg\" height=\"24px\"viewBox=\"0 0 24 24\"\n",
              "     width=\"24px\">\n",
              "    <g>\n",
              "        <path d=\"M19 3H5c-1.1 0-2 .9-2 2v14c0 1.1.9 2 2 2h14c1.1 0 2-.9 2-2V5c0-1.1-.9-2-2-2zM9 17H7v-7h2v7zm4 0h-2V7h2v10zm4 0h-2v-4h2v4z\"/>\n",
              "    </g>\n",
              "</svg>\n",
              "  </button>\n",
              "\n",
              "<style>\n",
              "  .colab-df-quickchart {\n",
              "      --bg-color: #E8F0FE;\n",
              "      --fill-color: #1967D2;\n",
              "      --hover-bg-color: #E2EBFA;\n",
              "      --hover-fill-color: #174EA6;\n",
              "      --disabled-fill-color: #AAA;\n",
              "      --disabled-bg-color: #DDD;\n",
              "  }\n",
              "\n",
              "  [theme=dark] .colab-df-quickchart {\n",
              "      --bg-color: #3B4455;\n",
              "      --fill-color: #D2E3FC;\n",
              "      --hover-bg-color: #434B5C;\n",
              "      --hover-fill-color: #FFFFFF;\n",
              "      --disabled-bg-color: #3B4455;\n",
              "      --disabled-fill-color: #666;\n",
              "  }\n",
              "\n",
              "  .colab-df-quickchart {\n",
              "    background-color: var(--bg-color);\n",
              "    border: none;\n",
              "    border-radius: 50%;\n",
              "    cursor: pointer;\n",
              "    display: none;\n",
              "    fill: var(--fill-color);\n",
              "    height: 32px;\n",
              "    padding: 0;\n",
              "    width: 32px;\n",
              "  }\n",
              "\n",
              "  .colab-df-quickchart:hover {\n",
              "    background-color: var(--hover-bg-color);\n",
              "    box-shadow: 0 1px 2px rgba(60, 64, 67, 0.3), 0 1px 3px 1px rgba(60, 64, 67, 0.15);\n",
              "    fill: var(--button-hover-fill-color);\n",
              "  }\n",
              "\n",
              "  .colab-df-quickchart-complete:disabled,\n",
              "  .colab-df-quickchart-complete:disabled:hover {\n",
              "    background-color: var(--disabled-bg-color);\n",
              "    fill: var(--disabled-fill-color);\n",
              "    box-shadow: none;\n",
              "  }\n",
              "\n",
              "  .colab-df-spinner {\n",
              "    border: 2px solid var(--fill-color);\n",
              "    border-color: transparent;\n",
              "    border-bottom-color: var(--fill-color);\n",
              "    animation:\n",
              "      spin 1s steps(1) infinite;\n",
              "  }\n",
              "\n",
              "  @keyframes spin {\n",
              "    0% {\n",
              "      border-color: transparent;\n",
              "      border-bottom-color: var(--fill-color);\n",
              "      border-left-color: var(--fill-color);\n",
              "    }\n",
              "    20% {\n",
              "      border-color: transparent;\n",
              "      border-left-color: var(--fill-color);\n",
              "      border-top-color: var(--fill-color);\n",
              "    }\n",
              "    30% {\n",
              "      border-color: transparent;\n",
              "      border-left-color: var(--fill-color);\n",
              "      border-top-color: var(--fill-color);\n",
              "      border-right-color: var(--fill-color);\n",
              "    }\n",
              "    40% {\n",
              "      border-color: transparent;\n",
              "      border-right-color: var(--fill-color);\n",
              "      border-top-color: var(--fill-color);\n",
              "    }\n",
              "    60% {\n",
              "      border-color: transparent;\n",
              "      border-right-color: var(--fill-color);\n",
              "    }\n",
              "    80% {\n",
              "      border-color: transparent;\n",
              "      border-right-color: var(--fill-color);\n",
              "      border-bottom-color: var(--fill-color);\n",
              "    }\n",
              "    90% {\n",
              "      border-color: transparent;\n",
              "      border-bottom-color: var(--fill-color);\n",
              "    }\n",
              "  }\n",
              "</style>\n",
              "\n",
              "  <script>\n",
              "    async function quickchart(key) {\n",
              "      const quickchartButtonEl =\n",
              "        document.querySelector('#' + key + ' button');\n",
              "      quickchartButtonEl.disabled = true;  // To prevent multiple clicks.\n",
              "      quickchartButtonEl.classList.add('colab-df-spinner');\n",
              "      try {\n",
              "        const charts = await google.colab.kernel.invokeFunction(\n",
              "            'suggestCharts', [key], {});\n",
              "      } catch (error) {\n",
              "        console.error('Error during call to suggestCharts:', error);\n",
              "      }\n",
              "      quickchartButtonEl.classList.remove('colab-df-spinner');\n",
              "      quickchartButtonEl.classList.add('colab-df-quickchart-complete');\n",
              "    }\n",
              "    (() => {\n",
              "      let quickchartButtonEl =\n",
              "        document.querySelector('#df-49d7e476-762b-4483-80f7-fa11122ea875 button');\n",
              "      quickchartButtonEl.style.display =\n",
              "        google.colab.kernel.accessAllowed ? 'block' : 'none';\n",
              "    })();\n",
              "  </script>\n",
              "</div>\n",
              "    </div>\n",
              "  </div>\n"
            ]
          },
          "metadata": {},
          "execution_count": 12
        }
      ],
      "source": [
        "df_customer = pd.read_parquet('/content/drive/MyDrive/[DS Final Project] Team Athena/Dataset Blom Final/df_customer.parquet')\n",
        "df_customer.head(2)"
      ]
    },
    {
      "cell_type": "code",
      "execution_count": null,
      "metadata": {
        "colab": {
          "base_uri": "https://localhost:8080/",
          "height": 231
        },
        "id": "-FwjE8d-oJp8",
        "outputId": "fd05958d-c844-4d01-f970-a120245c4109"
      },
      "outputs": [
        {
          "output_type": "execute_result",
          "data": {
            "text/plain": [
              "                             session_id                   created_at  \\\n",
              "0  3abaa6ce-e320-4e51-9469-d9f3fa328e86  2018-07-29T15:22:01.458193Z   \n",
              "1  3abaa6ce-e320-4e51-9469-d9f3fa328e86  2018-07-29T15:22:01.458193Z   \n",
              "\n",
              "   customer_id                            booking_id  promo_amount  \\\n",
              "0         5868  186e2bee-0637-4710-8981-50c2d737bc42          1415   \n",
              "1         5868  186e2bee-0637-4710-8981-50c2d737bc42          1415   \n",
              "\n",
              "   shipment_fee  total_amount  product_id  quantity  item_price  ... homepage  \\\n",
              "0         10000        199832         NaN       NaN         NaN  ...      4.0   \n",
              "1         10000        199832         NaN       NaN         NaN  ...      4.0   \n",
              "\n",
              "   scroll  click  item_detail  promo_page  search  add_to_cart  add_promo  \\\n",
              "0     NaN    7.0          2.0         5.0     1.0          4.0        1.0   \n",
              "1     NaN    7.0          2.0         5.0     1.0          4.0        1.0   \n",
              "\n",
              "    web  mobile  \n",
              "0  25.0     NaN  \n",
              "1  25.0     NaN  \n",
              "\n",
              "[2 rows x 21 columns]"
            ],
            "text/html": [
              "\n",
              "  <div id=\"df-0d000ca9-02a8-4efc-a648-ea5e541c43cd\" class=\"colab-df-container\">\n",
              "    <div>\n",
              "<style scoped>\n",
              "    .dataframe tbody tr th:only-of-type {\n",
              "        vertical-align: middle;\n",
              "    }\n",
              "\n",
              "    .dataframe tbody tr th {\n",
              "        vertical-align: top;\n",
              "    }\n",
              "\n",
              "    .dataframe thead th {\n",
              "        text-align: right;\n",
              "    }\n",
              "</style>\n",
              "<table border=\"1\" class=\"dataframe\">\n",
              "  <thead>\n",
              "    <tr style=\"text-align: right;\">\n",
              "      <th></th>\n",
              "      <th>session_id</th>\n",
              "      <th>created_at</th>\n",
              "      <th>customer_id</th>\n",
              "      <th>booking_id</th>\n",
              "      <th>promo_amount</th>\n",
              "      <th>shipment_fee</th>\n",
              "      <th>total_amount</th>\n",
              "      <th>product_id</th>\n",
              "      <th>quantity</th>\n",
              "      <th>item_price</th>\n",
              "      <th>...</th>\n",
              "      <th>homepage</th>\n",
              "      <th>scroll</th>\n",
              "      <th>click</th>\n",
              "      <th>item_detail</th>\n",
              "      <th>promo_page</th>\n",
              "      <th>search</th>\n",
              "      <th>add_to_cart</th>\n",
              "      <th>add_promo</th>\n",
              "      <th>web</th>\n",
              "      <th>mobile</th>\n",
              "    </tr>\n",
              "  </thead>\n",
              "  <tbody>\n",
              "    <tr>\n",
              "      <th>0</th>\n",
              "      <td>3abaa6ce-e320-4e51-9469-d9f3fa328e86</td>\n",
              "      <td>2018-07-29T15:22:01.458193Z</td>\n",
              "      <td>5868</td>\n",
              "      <td>186e2bee-0637-4710-8981-50c2d737bc42</td>\n",
              "      <td>1415</td>\n",
              "      <td>10000</td>\n",
              "      <td>199832</td>\n",
              "      <td>NaN</td>\n",
              "      <td>NaN</td>\n",
              "      <td>NaN</td>\n",
              "      <td>...</td>\n",
              "      <td>4.0</td>\n",
              "      <td>NaN</td>\n",
              "      <td>7.0</td>\n",
              "      <td>2.0</td>\n",
              "      <td>5.0</td>\n",
              "      <td>1.0</td>\n",
              "      <td>4.0</td>\n",
              "      <td>1.0</td>\n",
              "      <td>25.0</td>\n",
              "      <td>NaN</td>\n",
              "    </tr>\n",
              "    <tr>\n",
              "      <th>1</th>\n",
              "      <td>3abaa6ce-e320-4e51-9469-d9f3fa328e86</td>\n",
              "      <td>2018-07-29T15:22:01.458193Z</td>\n",
              "      <td>5868</td>\n",
              "      <td>186e2bee-0637-4710-8981-50c2d737bc42</td>\n",
              "      <td>1415</td>\n",
              "      <td>10000</td>\n",
              "      <td>199832</td>\n",
              "      <td>NaN</td>\n",
              "      <td>NaN</td>\n",
              "      <td>NaN</td>\n",
              "      <td>...</td>\n",
              "      <td>4.0</td>\n",
              "      <td>NaN</td>\n",
              "      <td>7.0</td>\n",
              "      <td>2.0</td>\n",
              "      <td>5.0</td>\n",
              "      <td>1.0</td>\n",
              "      <td>4.0</td>\n",
              "      <td>1.0</td>\n",
              "      <td>25.0</td>\n",
              "      <td>NaN</td>\n",
              "    </tr>\n",
              "  </tbody>\n",
              "</table>\n",
              "<p>2 rows × 21 columns</p>\n",
              "</div>\n",
              "    <div class=\"colab-df-buttons\">\n",
              "\n",
              "  <div class=\"colab-df-container\">\n",
              "    <button class=\"colab-df-convert\" onclick=\"convertToInteractive('df-0d000ca9-02a8-4efc-a648-ea5e541c43cd')\"\n",
              "            title=\"Convert this dataframe to an interactive table.\"\n",
              "            style=\"display:none;\">\n",
              "\n",
              "  <svg xmlns=\"http://www.w3.org/2000/svg\" height=\"24px\" viewBox=\"0 -960 960 960\">\n",
              "    <path d=\"M120-120v-720h720v720H120Zm60-500h600v-160H180v160Zm220 220h160v-160H400v160Zm0 220h160v-160H400v160ZM180-400h160v-160H180v160Zm440 0h160v-160H620v160ZM180-180h160v-160H180v160Zm440 0h160v-160H620v160Z\"/>\n",
              "  </svg>\n",
              "    </button>\n",
              "\n",
              "  <style>\n",
              "    .colab-df-container {\n",
              "      display:flex;\n",
              "      gap: 12px;\n",
              "    }\n",
              "\n",
              "    .colab-df-convert {\n",
              "      background-color: #E8F0FE;\n",
              "      border: none;\n",
              "      border-radius: 50%;\n",
              "      cursor: pointer;\n",
              "      display: none;\n",
              "      fill: #1967D2;\n",
              "      height: 32px;\n",
              "      padding: 0 0 0 0;\n",
              "      width: 32px;\n",
              "    }\n",
              "\n",
              "    .colab-df-convert:hover {\n",
              "      background-color: #E2EBFA;\n",
              "      box-shadow: 0px 1px 2px rgba(60, 64, 67, 0.3), 0px 1px 3px 1px rgba(60, 64, 67, 0.15);\n",
              "      fill: #174EA6;\n",
              "    }\n",
              "\n",
              "    .colab-df-buttons div {\n",
              "      margin-bottom: 4px;\n",
              "    }\n",
              "\n",
              "    [theme=dark] .colab-df-convert {\n",
              "      background-color: #3B4455;\n",
              "      fill: #D2E3FC;\n",
              "    }\n",
              "\n",
              "    [theme=dark] .colab-df-convert:hover {\n",
              "      background-color: #434B5C;\n",
              "      box-shadow: 0px 1px 3px 1px rgba(0, 0, 0, 0.15);\n",
              "      filter: drop-shadow(0px 1px 2px rgba(0, 0, 0, 0.3));\n",
              "      fill: #FFFFFF;\n",
              "    }\n",
              "  </style>\n",
              "\n",
              "    <script>\n",
              "      const buttonEl =\n",
              "        document.querySelector('#df-0d000ca9-02a8-4efc-a648-ea5e541c43cd button.colab-df-convert');\n",
              "      buttonEl.style.display =\n",
              "        google.colab.kernel.accessAllowed ? 'block' : 'none';\n",
              "\n",
              "      async function convertToInteractive(key) {\n",
              "        const element = document.querySelector('#df-0d000ca9-02a8-4efc-a648-ea5e541c43cd');\n",
              "        const dataTable =\n",
              "          await google.colab.kernel.invokeFunction('convertToInteractive',\n",
              "                                                    [key], {});\n",
              "        if (!dataTable) return;\n",
              "\n",
              "        const docLinkHtml = 'Like what you see? Visit the ' +\n",
              "          '<a target=\"_blank\" href=https://colab.research.google.com/notebooks/data_table.ipynb>data table notebook</a>'\n",
              "          + ' to learn more about interactive tables.';\n",
              "        element.innerHTML = '';\n",
              "        dataTable['output_type'] = 'display_data';\n",
              "        await google.colab.output.renderOutput(dataTable, element);\n",
              "        const docLink = document.createElement('div');\n",
              "        docLink.innerHTML = docLinkHtml;\n",
              "        element.appendChild(docLink);\n",
              "      }\n",
              "    </script>\n",
              "  </div>\n",
              "\n",
              "\n",
              "<div id=\"df-7ac6cd15-c0d4-496e-b7ae-0f205c469119\">\n",
              "  <button class=\"colab-df-quickchart\" onclick=\"quickchart('df-7ac6cd15-c0d4-496e-b7ae-0f205c469119')\"\n",
              "            title=\"Suggest charts\"\n",
              "            style=\"display:none;\">\n",
              "\n",
              "<svg xmlns=\"http://www.w3.org/2000/svg\" height=\"24px\"viewBox=\"0 0 24 24\"\n",
              "     width=\"24px\">\n",
              "    <g>\n",
              "        <path d=\"M19 3H5c-1.1 0-2 .9-2 2v14c0 1.1.9 2 2 2h14c1.1 0 2-.9 2-2V5c0-1.1-.9-2-2-2zM9 17H7v-7h2v7zm4 0h-2V7h2v10zm4 0h-2v-4h2v4z\"/>\n",
              "    </g>\n",
              "</svg>\n",
              "  </button>\n",
              "\n",
              "<style>\n",
              "  .colab-df-quickchart {\n",
              "      --bg-color: #E8F0FE;\n",
              "      --fill-color: #1967D2;\n",
              "      --hover-bg-color: #E2EBFA;\n",
              "      --hover-fill-color: #174EA6;\n",
              "      --disabled-fill-color: #AAA;\n",
              "      --disabled-bg-color: #DDD;\n",
              "  }\n",
              "\n",
              "  [theme=dark] .colab-df-quickchart {\n",
              "      --bg-color: #3B4455;\n",
              "      --fill-color: #D2E3FC;\n",
              "      --hover-bg-color: #434B5C;\n",
              "      --hover-fill-color: #FFFFFF;\n",
              "      --disabled-bg-color: #3B4455;\n",
              "      --disabled-fill-color: #666;\n",
              "  }\n",
              "\n",
              "  .colab-df-quickchart {\n",
              "    background-color: var(--bg-color);\n",
              "    border: none;\n",
              "    border-radius: 50%;\n",
              "    cursor: pointer;\n",
              "    display: none;\n",
              "    fill: var(--fill-color);\n",
              "    height: 32px;\n",
              "    padding: 0;\n",
              "    width: 32px;\n",
              "  }\n",
              "\n",
              "  .colab-df-quickchart:hover {\n",
              "    background-color: var(--hover-bg-color);\n",
              "    box-shadow: 0 1px 2px rgba(60, 64, 67, 0.3), 0 1px 3px 1px rgba(60, 64, 67, 0.15);\n",
              "    fill: var(--button-hover-fill-color);\n",
              "  }\n",
              "\n",
              "  .colab-df-quickchart-complete:disabled,\n",
              "  .colab-df-quickchart-complete:disabled:hover {\n",
              "    background-color: var(--disabled-bg-color);\n",
              "    fill: var(--disabled-fill-color);\n",
              "    box-shadow: none;\n",
              "  }\n",
              "\n",
              "  .colab-df-spinner {\n",
              "    border: 2px solid var(--fill-color);\n",
              "    border-color: transparent;\n",
              "    border-bottom-color: var(--fill-color);\n",
              "    animation:\n",
              "      spin 1s steps(1) infinite;\n",
              "  }\n",
              "\n",
              "  @keyframes spin {\n",
              "    0% {\n",
              "      border-color: transparent;\n",
              "      border-bottom-color: var(--fill-color);\n",
              "      border-left-color: var(--fill-color);\n",
              "    }\n",
              "    20% {\n",
              "      border-color: transparent;\n",
              "      border-left-color: var(--fill-color);\n",
              "      border-top-color: var(--fill-color);\n",
              "    }\n",
              "    30% {\n",
              "      border-color: transparent;\n",
              "      border-left-color: var(--fill-color);\n",
              "      border-top-color: var(--fill-color);\n",
              "      border-right-color: var(--fill-color);\n",
              "    }\n",
              "    40% {\n",
              "      border-color: transparent;\n",
              "      border-right-color: var(--fill-color);\n",
              "      border-top-color: var(--fill-color);\n",
              "    }\n",
              "    60% {\n",
              "      border-color: transparent;\n",
              "      border-right-color: var(--fill-color);\n",
              "    }\n",
              "    80% {\n",
              "      border-color: transparent;\n",
              "      border-right-color: var(--fill-color);\n",
              "      border-bottom-color: var(--fill-color);\n",
              "    }\n",
              "    90% {\n",
              "      border-color: transparent;\n",
              "      border-bottom-color: var(--fill-color);\n",
              "    }\n",
              "  }\n",
              "</style>\n",
              "\n",
              "  <script>\n",
              "    async function quickchart(key) {\n",
              "      const quickchartButtonEl =\n",
              "        document.querySelector('#' + key + ' button');\n",
              "      quickchartButtonEl.disabled = true;  // To prevent multiple clicks.\n",
              "      quickchartButtonEl.classList.add('colab-df-spinner');\n",
              "      try {\n",
              "        const charts = await google.colab.kernel.invokeFunction(\n",
              "            'suggestCharts', [key], {});\n",
              "      } catch (error) {\n",
              "        console.error('Error during call to suggestCharts:', error);\n",
              "      }\n",
              "      quickchartButtonEl.classList.remove('colab-df-spinner');\n",
              "      quickchartButtonEl.classList.add('colab-df-quickchart-complete');\n",
              "    }\n",
              "    (() => {\n",
              "      let quickchartButtonEl =\n",
              "        document.querySelector('#df-7ac6cd15-c0d4-496e-b7ae-0f205c469119 button');\n",
              "      quickchartButtonEl.style.display =\n",
              "        google.colab.kernel.accessAllowed ? 'block' : 'none';\n",
              "    })();\n",
              "  </script>\n",
              "</div>\n",
              "    </div>\n",
              "  </div>\n"
            ]
          },
          "metadata": {},
          "execution_count": 13
        }
      ],
      "source": [
        "df_feature = pd.read_parquet('/content/drive/MyDrive/[DS Final Project] Team Athena/Dataset Blom Final/df_feature.parquet')\n",
        "df_feature.head(2)"
      ]
    },
    {
      "cell_type": "code",
      "execution_count": null,
      "metadata": {
        "id": "dPiUP6hzokbD"
      },
      "outputs": [],
      "source": [
        "df_feature = df_feature.copy()"
      ]
    },
    {
      "cell_type": "code",
      "execution_count": null,
      "metadata": {
        "id": "RO3c8o7BpFpj"
      },
      "outputs": [],
      "source": [
        "df_feature['created_at'] = pd.to_datetime(df_feature['created_at'])"
      ]
    },
    {
      "cell_type": "code",
      "execution_count": null,
      "metadata": {
        "id": "ARRUnT0fpHMG"
      },
      "outputs": [],
      "source": [
        "df_feature['date_month_year'] = df_feature['created_at'].dt.strftime('%Y-%m-%d')"
      ]
    },
    {
      "cell_type": "code",
      "execution_count": null,
      "metadata": {
        "colab": {
          "base_uri": "https://localhost:8080/",
          "height": 429
        },
        "id": "POprTeupp6-z",
        "outputId": "c90dca7d-3831-43ab-fe72-db9cad9f6425"
      },
      "outputs": [
        {
          "output_type": "execute_result",
          "data": {
            "text/plain": [
              "                             session_id                       created_at  \\\n",
              "0  3abaa6ce-e320-4e51-9469-d9f3fa328e86 2018-07-29 15:22:01.458193+00:00   \n",
              "1  3abaa6ce-e320-4e51-9469-d9f3fa328e86 2018-07-29 15:22:01.458193+00:00   \n",
              "2  3abaa6ce-e320-4e51-9469-d9f3fa328e86 2018-07-29 15:22:01.458193+00:00   \n",
              "3  3abaa6ce-e320-4e51-9469-d9f3fa328e86 2018-07-29 15:22:01.458193+00:00   \n",
              "4  3abaa6ce-e320-4e51-9469-d9f3fa328e86 2018-07-29 15:22:01.458193+00:00   \n",
              "\n",
              "   customer_id                            booking_id  promo_amount  \\\n",
              "0         5868  186e2bee-0637-4710-8981-50c2d737bc42          1415   \n",
              "1         5868  186e2bee-0637-4710-8981-50c2d737bc42          1415   \n",
              "2         5868  186e2bee-0637-4710-8981-50c2d737bc42          1415   \n",
              "3         5868  186e2bee-0637-4710-8981-50c2d737bc42          1415   \n",
              "4         5868  186e2bee-0637-4710-8981-50c2d737bc42          1415   \n",
              "\n",
              "   shipment_fee  total_amount  product_id  quantity  item_price  ... scroll  \\\n",
              "0         10000        199832         NaN       NaN         NaN  ...    NaN   \n",
              "1         10000        199832         NaN       NaN         NaN  ...    NaN   \n",
              "2         10000        199832         NaN       NaN         NaN  ...    NaN   \n",
              "3         10000        199832         NaN       NaN         NaN  ...    NaN   \n",
              "4         10000        199832         NaN       NaN         NaN  ...    NaN   \n",
              "\n",
              "   click  item_detail  promo_page  search  add_to_cart  add_promo   web  \\\n",
              "0    7.0          2.0         5.0     1.0          4.0        1.0  25.0   \n",
              "1    7.0          2.0         5.0     1.0          4.0        1.0  25.0   \n",
              "2    7.0          2.0         5.0     1.0          4.0        1.0  25.0   \n",
              "3    7.0          2.0         5.0     1.0          4.0        1.0  25.0   \n",
              "4    7.0          2.0         5.0     1.0          4.0        1.0  25.0   \n",
              "\n",
              "   mobile  date_month_year  \n",
              "0     NaN       2018-07-29  \n",
              "1     NaN       2018-07-29  \n",
              "2     NaN       2018-07-29  \n",
              "3     NaN       2018-07-29  \n",
              "4     NaN       2018-07-29  \n",
              "\n",
              "[5 rows x 22 columns]"
            ],
            "text/html": [
              "\n",
              "  <div id=\"df-fdff403f-675e-48c2-b212-1298a6c7ca39\" class=\"colab-df-container\">\n",
              "    <div>\n",
              "<style scoped>\n",
              "    .dataframe tbody tr th:only-of-type {\n",
              "        vertical-align: middle;\n",
              "    }\n",
              "\n",
              "    .dataframe tbody tr th {\n",
              "        vertical-align: top;\n",
              "    }\n",
              "\n",
              "    .dataframe thead th {\n",
              "        text-align: right;\n",
              "    }\n",
              "</style>\n",
              "<table border=\"1\" class=\"dataframe\">\n",
              "  <thead>\n",
              "    <tr style=\"text-align: right;\">\n",
              "      <th></th>\n",
              "      <th>session_id</th>\n",
              "      <th>created_at</th>\n",
              "      <th>customer_id</th>\n",
              "      <th>booking_id</th>\n",
              "      <th>promo_amount</th>\n",
              "      <th>shipment_fee</th>\n",
              "      <th>total_amount</th>\n",
              "      <th>product_id</th>\n",
              "      <th>quantity</th>\n",
              "      <th>item_price</th>\n",
              "      <th>...</th>\n",
              "      <th>scroll</th>\n",
              "      <th>click</th>\n",
              "      <th>item_detail</th>\n",
              "      <th>promo_page</th>\n",
              "      <th>search</th>\n",
              "      <th>add_to_cart</th>\n",
              "      <th>add_promo</th>\n",
              "      <th>web</th>\n",
              "      <th>mobile</th>\n",
              "      <th>date_month_year</th>\n",
              "    </tr>\n",
              "  </thead>\n",
              "  <tbody>\n",
              "    <tr>\n",
              "      <th>0</th>\n",
              "      <td>3abaa6ce-e320-4e51-9469-d9f3fa328e86</td>\n",
              "      <td>2018-07-29 15:22:01.458193+00:00</td>\n",
              "      <td>5868</td>\n",
              "      <td>186e2bee-0637-4710-8981-50c2d737bc42</td>\n",
              "      <td>1415</td>\n",
              "      <td>10000</td>\n",
              "      <td>199832</td>\n",
              "      <td>NaN</td>\n",
              "      <td>NaN</td>\n",
              "      <td>NaN</td>\n",
              "      <td>...</td>\n",
              "      <td>NaN</td>\n",
              "      <td>7.0</td>\n",
              "      <td>2.0</td>\n",
              "      <td>5.0</td>\n",
              "      <td>1.0</td>\n",
              "      <td>4.0</td>\n",
              "      <td>1.0</td>\n",
              "      <td>25.0</td>\n",
              "      <td>NaN</td>\n",
              "      <td>2018-07-29</td>\n",
              "    </tr>\n",
              "    <tr>\n",
              "      <th>1</th>\n",
              "      <td>3abaa6ce-e320-4e51-9469-d9f3fa328e86</td>\n",
              "      <td>2018-07-29 15:22:01.458193+00:00</td>\n",
              "      <td>5868</td>\n",
              "      <td>186e2bee-0637-4710-8981-50c2d737bc42</td>\n",
              "      <td>1415</td>\n",
              "      <td>10000</td>\n",
              "      <td>199832</td>\n",
              "      <td>NaN</td>\n",
              "      <td>NaN</td>\n",
              "      <td>NaN</td>\n",
              "      <td>...</td>\n",
              "      <td>NaN</td>\n",
              "      <td>7.0</td>\n",
              "      <td>2.0</td>\n",
              "      <td>5.0</td>\n",
              "      <td>1.0</td>\n",
              "      <td>4.0</td>\n",
              "      <td>1.0</td>\n",
              "      <td>25.0</td>\n",
              "      <td>NaN</td>\n",
              "      <td>2018-07-29</td>\n",
              "    </tr>\n",
              "    <tr>\n",
              "      <th>2</th>\n",
              "      <td>3abaa6ce-e320-4e51-9469-d9f3fa328e86</td>\n",
              "      <td>2018-07-29 15:22:01.458193+00:00</td>\n",
              "      <td>5868</td>\n",
              "      <td>186e2bee-0637-4710-8981-50c2d737bc42</td>\n",
              "      <td>1415</td>\n",
              "      <td>10000</td>\n",
              "      <td>199832</td>\n",
              "      <td>NaN</td>\n",
              "      <td>NaN</td>\n",
              "      <td>NaN</td>\n",
              "      <td>...</td>\n",
              "      <td>NaN</td>\n",
              "      <td>7.0</td>\n",
              "      <td>2.0</td>\n",
              "      <td>5.0</td>\n",
              "      <td>1.0</td>\n",
              "      <td>4.0</td>\n",
              "      <td>1.0</td>\n",
              "      <td>25.0</td>\n",
              "      <td>NaN</td>\n",
              "      <td>2018-07-29</td>\n",
              "    </tr>\n",
              "    <tr>\n",
              "      <th>3</th>\n",
              "      <td>3abaa6ce-e320-4e51-9469-d9f3fa328e86</td>\n",
              "      <td>2018-07-29 15:22:01.458193+00:00</td>\n",
              "      <td>5868</td>\n",
              "      <td>186e2bee-0637-4710-8981-50c2d737bc42</td>\n",
              "      <td>1415</td>\n",
              "      <td>10000</td>\n",
              "      <td>199832</td>\n",
              "      <td>NaN</td>\n",
              "      <td>NaN</td>\n",
              "      <td>NaN</td>\n",
              "      <td>...</td>\n",
              "      <td>NaN</td>\n",
              "      <td>7.0</td>\n",
              "      <td>2.0</td>\n",
              "      <td>5.0</td>\n",
              "      <td>1.0</td>\n",
              "      <td>4.0</td>\n",
              "      <td>1.0</td>\n",
              "      <td>25.0</td>\n",
              "      <td>NaN</td>\n",
              "      <td>2018-07-29</td>\n",
              "    </tr>\n",
              "    <tr>\n",
              "      <th>4</th>\n",
              "      <td>3abaa6ce-e320-4e51-9469-d9f3fa328e86</td>\n",
              "      <td>2018-07-29 15:22:01.458193+00:00</td>\n",
              "      <td>5868</td>\n",
              "      <td>186e2bee-0637-4710-8981-50c2d737bc42</td>\n",
              "      <td>1415</td>\n",
              "      <td>10000</td>\n",
              "      <td>199832</td>\n",
              "      <td>NaN</td>\n",
              "      <td>NaN</td>\n",
              "      <td>NaN</td>\n",
              "      <td>...</td>\n",
              "      <td>NaN</td>\n",
              "      <td>7.0</td>\n",
              "      <td>2.0</td>\n",
              "      <td>5.0</td>\n",
              "      <td>1.0</td>\n",
              "      <td>4.0</td>\n",
              "      <td>1.0</td>\n",
              "      <td>25.0</td>\n",
              "      <td>NaN</td>\n",
              "      <td>2018-07-29</td>\n",
              "    </tr>\n",
              "  </tbody>\n",
              "</table>\n",
              "<p>5 rows × 22 columns</p>\n",
              "</div>\n",
              "    <div class=\"colab-df-buttons\">\n",
              "\n",
              "  <div class=\"colab-df-container\">\n",
              "    <button class=\"colab-df-convert\" onclick=\"convertToInteractive('df-fdff403f-675e-48c2-b212-1298a6c7ca39')\"\n",
              "            title=\"Convert this dataframe to an interactive table.\"\n",
              "            style=\"display:none;\">\n",
              "\n",
              "  <svg xmlns=\"http://www.w3.org/2000/svg\" height=\"24px\" viewBox=\"0 -960 960 960\">\n",
              "    <path d=\"M120-120v-720h720v720H120Zm60-500h600v-160H180v160Zm220 220h160v-160H400v160Zm0 220h160v-160H400v160ZM180-400h160v-160H180v160Zm440 0h160v-160H620v160ZM180-180h160v-160H180v160Zm440 0h160v-160H620v160Z\"/>\n",
              "  </svg>\n",
              "    </button>\n",
              "\n",
              "  <style>\n",
              "    .colab-df-container {\n",
              "      display:flex;\n",
              "      gap: 12px;\n",
              "    }\n",
              "\n",
              "    .colab-df-convert {\n",
              "      background-color: #E8F0FE;\n",
              "      border: none;\n",
              "      border-radius: 50%;\n",
              "      cursor: pointer;\n",
              "      display: none;\n",
              "      fill: #1967D2;\n",
              "      height: 32px;\n",
              "      padding: 0 0 0 0;\n",
              "      width: 32px;\n",
              "    }\n",
              "\n",
              "    .colab-df-convert:hover {\n",
              "      background-color: #E2EBFA;\n",
              "      box-shadow: 0px 1px 2px rgba(60, 64, 67, 0.3), 0px 1px 3px 1px rgba(60, 64, 67, 0.15);\n",
              "      fill: #174EA6;\n",
              "    }\n",
              "\n",
              "    .colab-df-buttons div {\n",
              "      margin-bottom: 4px;\n",
              "    }\n",
              "\n",
              "    [theme=dark] .colab-df-convert {\n",
              "      background-color: #3B4455;\n",
              "      fill: #D2E3FC;\n",
              "    }\n",
              "\n",
              "    [theme=dark] .colab-df-convert:hover {\n",
              "      background-color: #434B5C;\n",
              "      box-shadow: 0px 1px 3px 1px rgba(0, 0, 0, 0.15);\n",
              "      filter: drop-shadow(0px 1px 2px rgba(0, 0, 0, 0.3));\n",
              "      fill: #FFFFFF;\n",
              "    }\n",
              "  </style>\n",
              "\n",
              "    <script>\n",
              "      const buttonEl =\n",
              "        document.querySelector('#df-fdff403f-675e-48c2-b212-1298a6c7ca39 button.colab-df-convert');\n",
              "      buttonEl.style.display =\n",
              "        google.colab.kernel.accessAllowed ? 'block' : 'none';\n",
              "\n",
              "      async function convertToInteractive(key) {\n",
              "        const element = document.querySelector('#df-fdff403f-675e-48c2-b212-1298a6c7ca39');\n",
              "        const dataTable =\n",
              "          await google.colab.kernel.invokeFunction('convertToInteractive',\n",
              "                                                    [key], {});\n",
              "        if (!dataTable) return;\n",
              "\n",
              "        const docLinkHtml = 'Like what you see? Visit the ' +\n",
              "          '<a target=\"_blank\" href=https://colab.research.google.com/notebooks/data_table.ipynb>data table notebook</a>'\n",
              "          + ' to learn more about interactive tables.';\n",
              "        element.innerHTML = '';\n",
              "        dataTable['output_type'] = 'display_data';\n",
              "        await google.colab.output.renderOutput(dataTable, element);\n",
              "        const docLink = document.createElement('div');\n",
              "        docLink.innerHTML = docLinkHtml;\n",
              "        element.appendChild(docLink);\n",
              "      }\n",
              "    </script>\n",
              "  </div>\n",
              "\n",
              "\n",
              "<div id=\"df-75e7adaa-d4ca-4463-97e6-8c3900269222\">\n",
              "  <button class=\"colab-df-quickchart\" onclick=\"quickchart('df-75e7adaa-d4ca-4463-97e6-8c3900269222')\"\n",
              "            title=\"Suggest charts\"\n",
              "            style=\"display:none;\">\n",
              "\n",
              "<svg xmlns=\"http://www.w3.org/2000/svg\" height=\"24px\"viewBox=\"0 0 24 24\"\n",
              "     width=\"24px\">\n",
              "    <g>\n",
              "        <path d=\"M19 3H5c-1.1 0-2 .9-2 2v14c0 1.1.9 2 2 2h14c1.1 0 2-.9 2-2V5c0-1.1-.9-2-2-2zM9 17H7v-7h2v7zm4 0h-2V7h2v10zm4 0h-2v-4h2v4z\"/>\n",
              "    </g>\n",
              "</svg>\n",
              "  </button>\n",
              "\n",
              "<style>\n",
              "  .colab-df-quickchart {\n",
              "      --bg-color: #E8F0FE;\n",
              "      --fill-color: #1967D2;\n",
              "      --hover-bg-color: #E2EBFA;\n",
              "      --hover-fill-color: #174EA6;\n",
              "      --disabled-fill-color: #AAA;\n",
              "      --disabled-bg-color: #DDD;\n",
              "  }\n",
              "\n",
              "  [theme=dark] .colab-df-quickchart {\n",
              "      --bg-color: #3B4455;\n",
              "      --fill-color: #D2E3FC;\n",
              "      --hover-bg-color: #434B5C;\n",
              "      --hover-fill-color: #FFFFFF;\n",
              "      --disabled-bg-color: #3B4455;\n",
              "      --disabled-fill-color: #666;\n",
              "  }\n",
              "\n",
              "  .colab-df-quickchart {\n",
              "    background-color: var(--bg-color);\n",
              "    border: none;\n",
              "    border-radius: 50%;\n",
              "    cursor: pointer;\n",
              "    display: none;\n",
              "    fill: var(--fill-color);\n",
              "    height: 32px;\n",
              "    padding: 0;\n",
              "    width: 32px;\n",
              "  }\n",
              "\n",
              "  .colab-df-quickchart:hover {\n",
              "    background-color: var(--hover-bg-color);\n",
              "    box-shadow: 0 1px 2px rgba(60, 64, 67, 0.3), 0 1px 3px 1px rgba(60, 64, 67, 0.15);\n",
              "    fill: var(--button-hover-fill-color);\n",
              "  }\n",
              "\n",
              "  .colab-df-quickchart-complete:disabled,\n",
              "  .colab-df-quickchart-complete:disabled:hover {\n",
              "    background-color: var(--disabled-bg-color);\n",
              "    fill: var(--disabled-fill-color);\n",
              "    box-shadow: none;\n",
              "  }\n",
              "\n",
              "  .colab-df-spinner {\n",
              "    border: 2px solid var(--fill-color);\n",
              "    border-color: transparent;\n",
              "    border-bottom-color: var(--fill-color);\n",
              "    animation:\n",
              "      spin 1s steps(1) infinite;\n",
              "  }\n",
              "\n",
              "  @keyframes spin {\n",
              "    0% {\n",
              "      border-color: transparent;\n",
              "      border-bottom-color: var(--fill-color);\n",
              "      border-left-color: var(--fill-color);\n",
              "    }\n",
              "    20% {\n",
              "      border-color: transparent;\n",
              "      border-left-color: var(--fill-color);\n",
              "      border-top-color: var(--fill-color);\n",
              "    }\n",
              "    30% {\n",
              "      border-color: transparent;\n",
              "      border-left-color: var(--fill-color);\n",
              "      border-top-color: var(--fill-color);\n",
              "      border-right-color: var(--fill-color);\n",
              "    }\n",
              "    40% {\n",
              "      border-color: transparent;\n",
              "      border-right-color: var(--fill-color);\n",
              "      border-top-color: var(--fill-color);\n",
              "    }\n",
              "    60% {\n",
              "      border-color: transparent;\n",
              "      border-right-color: var(--fill-color);\n",
              "    }\n",
              "    80% {\n",
              "      border-color: transparent;\n",
              "      border-right-color: var(--fill-color);\n",
              "      border-bottom-color: var(--fill-color);\n",
              "    }\n",
              "    90% {\n",
              "      border-color: transparent;\n",
              "      border-bottom-color: var(--fill-color);\n",
              "    }\n",
              "  }\n",
              "</style>\n",
              "\n",
              "  <script>\n",
              "    async function quickchart(key) {\n",
              "      const quickchartButtonEl =\n",
              "        document.querySelector('#' + key + ' button');\n",
              "      quickchartButtonEl.disabled = true;  // To prevent multiple clicks.\n",
              "      quickchartButtonEl.classList.add('colab-df-spinner');\n",
              "      try {\n",
              "        const charts = await google.colab.kernel.invokeFunction(\n",
              "            'suggestCharts', [key], {});\n",
              "      } catch (error) {\n",
              "        console.error('Error during call to suggestCharts:', error);\n",
              "      }\n",
              "      quickchartButtonEl.classList.remove('colab-df-spinner');\n",
              "      quickchartButtonEl.classList.add('colab-df-quickchart-complete');\n",
              "    }\n",
              "    (() => {\n",
              "      let quickchartButtonEl =\n",
              "        document.querySelector('#df-75e7adaa-d4ca-4463-97e6-8c3900269222 button');\n",
              "      quickchartButtonEl.style.display =\n",
              "        google.colab.kernel.accessAllowed ? 'block' : 'none';\n",
              "    })();\n",
              "  </script>\n",
              "</div>\n",
              "    </div>\n",
              "  </div>\n"
            ]
          },
          "metadata": {},
          "execution_count": 17
        }
      ],
      "source": [
        "df_feature.head()"
      ]
    },
    {
      "cell_type": "code",
      "execution_count": null,
      "metadata": {
        "id": "NFsAc9LYqwyv"
      },
      "outputs": [],
      "source": [
        "# data aggregate\n",
        "\n",
        "df_agg = df_feature.groupby(['date_month_year','customer_id']).agg(\n",
        "                            total_shipment = pd.NamedAgg(column = 'shipment_fee', aggfunc=sum),\n",
        "                            min_shipment = pd.NamedAgg(column = 'shipment_fee', aggfunc=min),\n",
        "                            max_shipment = pd.NamedAgg(column = 'shipment_fee', aggfunc=max),\n",
        "                            avg_shipment = pd.NamedAgg(column = 'shipment_fee', aggfunc='mean'),\n",
        "\n",
        "                            total_amount = pd.NamedAgg(column = 'total_amount', aggfunc=sum),\n",
        "                            min_amount = pd.NamedAgg(column = 'total_amount', aggfunc=min),\n",
        "                            max_amount = pd.NamedAgg(column = 'total_amount', aggfunc=max),\n",
        "                            avg_amount = pd.NamedAgg(column = 'total_amount', aggfunc='mean'),\n",
        "\n",
        "                            total_quantity = pd.NamedAgg(column = 'quantity', aggfunc=sum),\n",
        "                            min_quantity = pd.NamedAgg(column = 'quantity', aggfunc=min),\n",
        "                            max_quantity = pd.NamedAgg(column = 'quantity', aggfunc=max),\n",
        "                            avg_quantity = pd.NamedAgg(column = 'quantity', aggfunc='mean'),\n",
        "\n",
        "                            min_item_price = pd.NamedAgg(column = 'item_price', aggfunc=min),\n",
        "                            max_item_price = pd.NamedAgg(column = 'item_price', aggfunc=max),\n",
        "                            avg_item_price = pd.NamedAgg(column = 'item_price', aggfunc='mean'),\n",
        "\n",
        "                            frequency_trx = pd.NamedAgg(column = 'booking_id', aggfunc='nunique'),\n",
        "                            total_unique_product = pd.NamedAgg(column = 'product_id', aggfunc='nunique'),\n",
        "                            first_transaction = pd.NamedAgg(column = 'created_at', aggfunc=min),\n",
        "                            last_transaction = pd.NamedAgg(column = 'created_at', aggfunc=max),\n",
        "                            total_promo_amount = pd.NamedAgg(column = 'promo_amount', aggfunc=sum),\n",
        "                            total_promo_code = pd.NamedAgg(column = 'promo_amount', aggfunc='nunique'),\n",
        "\n",
        "                            avg_homepage = pd.NamedAgg(column = 'homepage', aggfunc='mean'),\n",
        "                            avg_scroll = pd.NamedAgg(column = 'scroll', aggfunc='mean'),\n",
        "                            avg_click = pd.NamedAgg(column = 'click', aggfunc='mean'),\n",
        "                            item_detail = pd.NamedAgg(column = 'item_detail', aggfunc='mean'),\n",
        "                            avg_promo_page = pd.NamedAgg(column = 'promo_page', aggfunc='mean'),\n",
        "                            avg_search = pd.NamedAgg(column = 'search', aggfunc='mean'),\n",
        "                            avg_add_to_cart = pd.NamedAgg(column = 'add_to_cart', aggfunc='mean'),\n",
        "                            avg_add_promo = pd.NamedAgg(column = 'add_promo', aggfunc='mean'),\n",
        "\n",
        "                            avg_web = pd.NamedAgg(column = 'web', aggfunc='mean'),\n",
        "                            avg_mobile = pd.NamedAgg(column = 'mobile', aggfunc='mean')\n",
        "\n",
        "                            ).reset_index()"
      ]
    },
    {
      "cell_type": "code",
      "execution_count": null,
      "metadata": {
        "id": "PL25JbNjq6AI"
      },
      "outputs": [],
      "source": [
        "# Filter period\n",
        "\n",
        "# 2016\n",
        "year_16 = df_agg[df_agg['date_month_year'].str.startswith('2016')]\n",
        "\n",
        "# 2017\n",
        "year_17 = df_agg[df_agg['date_month_year'].str.startswith('2017')]\n",
        "\n",
        "# 2018\n",
        "year_18 = df_agg[df_agg['date_month_year'].str.startswith('2018')]\n",
        "\n",
        "# 2019\n",
        "year_19 = df_agg[df_agg['date_month_year'].str.startswith('2019')]\n",
        "\n",
        "# 2020\n",
        "year_20 = df_agg[df_agg['date_month_year'].str.startswith('2020')]\n",
        "\n",
        "# 2021\n",
        "year_21 = df_agg[df_agg['date_month_year'].str.startswith('2021')]\n",
        "\n",
        "# 2022\n",
        "year_22 = df_agg[df_agg['date_month_year'].str.startswith('2022')]"
      ]
    },
    {
      "cell_type": "code",
      "execution_count": null,
      "metadata": {
        "id": "X4SWw00WZoOL"
      },
      "outputs": [],
      "source": [
        "# Gabungkan data frame dari tahun 2016 hingga 2022\n",
        "df_combined = pd.concat([year_16, year_17, year_18, year_19, year_20, year_21, year_22], ignore_index=True)"
      ]
    },
    {
      "cell_type": "markdown",
      "metadata": {
        "id": "rOnrZcffgDk1"
      },
      "source": [
        "## Tahun Baru"
      ]
    },
    {
      "cell_type": "code",
      "execution_count": null,
      "metadata": {
        "id": "eDHA4k3aZeAJ"
      },
      "outputs": [],
      "source": [
        "newyear_holidays= [\n",
        "    '2016-01-01',  # Tahun Baru Masehi\n",
        "    '2017-01-01',\n",
        "    '2018-01-01',\n",
        "    '2019-01-01',\n",
        "    '2020-01-01',\n",
        "    '2021-01-01',\n",
        "    '2022-01-01',\n",
        "]"
      ]
    },
    {
      "cell_type": "code",
      "execution_count": null,
      "metadata": {
        "id": "fSmQmS73ZhTH"
      },
      "outputs": [],
      "source": [
        "# Menambahkan kolom 'churn' berdasarkan tahun baru\n",
        "df_combined['churn_newyear'] = df_combined['date_month_year'].isin(newyear_holidays).astype(int)"
      ]
    },
    {
      "cell_type": "code",
      "execution_count": null,
      "metadata": {
        "colab": {
          "base_uri": "https://localhost:8080/"
        },
        "id": "l9-pBNi-Z1Zt",
        "outputId": "e501fe39-527d-4dc7-fdc1-86c953659596"
      },
      "outputs": [
        {
          "output_type": "execute_result",
          "data": {
            "text/plain": [
              "0    752853\n",
              "1      1943\n",
              "Name: churn_newyear, dtype: int64"
            ]
          },
          "metadata": {},
          "execution_count": 23
        }
      ],
      "source": [
        "df_combined['churn_newyear'].value_counts()"
      ]
    },
    {
      "cell_type": "markdown",
      "metadata": {
        "id": "jgRIdksLgGJ3"
      },
      "source": [
        "## Imlek"
      ]
    },
    {
      "cell_type": "code",
      "execution_count": null,
      "metadata": {
        "id": "tnLZvmzDaRGK"
      },
      "outputs": [],
      "source": [
        "cny_holidays= [\n",
        "    '2016-02-08',  # Tahun Baru Imlek\n",
        "    '2017-01-28',\n",
        "    '2018-02-16',\n",
        "    '2019-02-05',\n",
        "    '2020-01-25',\n",
        "    '2021-02-12',\n",
        "    '2022-01-22',\n",
        "]"
      ]
    },
    {
      "cell_type": "code",
      "execution_count": null,
      "metadata": {
        "id": "BB_xYg2Sa33g"
      },
      "outputs": [],
      "source": [
        "# Menambahkan kolom 'churn' berdasarkan tahun baru imlek\n",
        "df_combined['churn_cny'] = df_combined['date_month_year'].isin(cny_holidays).astype(int)"
      ]
    },
    {
      "cell_type": "code",
      "source": [
        "df_combined['churn_cny'].value_counts()"
      ],
      "metadata": {
        "colab": {
          "base_uri": "https://localhost:8080/"
        },
        "id": "6bZ4Ymn4wGpJ",
        "outputId": "7dac1d68-472a-4601-c124-14a1cda3e9af"
      },
      "execution_count": null,
      "outputs": [
        {
          "output_type": "execute_result",
          "data": {
            "text/plain": [
              "0    752750\n",
              "1      2046\n",
              "Name: churn_cny, dtype: int64"
            ]
          },
          "metadata": {},
          "execution_count": 26
        }
      ]
    },
    {
      "cell_type": "markdown",
      "metadata": {
        "id": "d1aPA8yvgIKu"
      },
      "source": [
        "## Nyepi"
      ]
    },
    {
      "cell_type": "code",
      "execution_count": null,
      "metadata": {
        "id": "lV_mxEQVa_8F"
      },
      "outputs": [],
      "source": [
        "nyepi_holidays= [\n",
        "    '2016-03-09',  # Nyepi\n",
        "    '2017-01-28',\n",
        "    '2018-03-17',\n",
        "    '2019-03-07',\n",
        "    '2020-03-25',\n",
        "    '2021-03-14',\n",
        "    '2022-03-03',\n",
        "]"
      ]
    },
    {
      "cell_type": "code",
      "execution_count": null,
      "metadata": {
        "id": "EjaZt5KRgMfx"
      },
      "outputs": [],
      "source": [
        "# Menambahkan kolom 'churn' berdasarkan libur nyepi\n",
        "df_combined['churn_nyepi'] = df_combined['date_month_year'].isin(nyepi_holidays).astype(int)"
      ]
    },
    {
      "cell_type": "code",
      "source": [
        "df_combined['churn_nyepi'].value_counts()"
      ],
      "metadata": {
        "colab": {
          "base_uri": "https://localhost:8080/"
        },
        "id": "zji5h1CUwOIt",
        "outputId": "6d1fad8b-874a-443a-f752-bf0198278e0b"
      },
      "execution_count": null,
      "outputs": [
        {
          "output_type": "execute_result",
          "data": {
            "text/plain": [
              "0    752627\n",
              "1      2169\n",
              "Name: churn_nyepi, dtype: int64"
            ]
          },
          "metadata": {},
          "execution_count": 29
        }
      ]
    },
    {
      "cell_type": "markdown",
      "metadata": {
        "id": "Ex6NbH4rgJu7"
      },
      "source": [
        "## Wafat Isa"
      ]
    },
    {
      "cell_type": "code",
      "execution_count": null,
      "metadata": {
        "id": "m5MfqCDPsQo-"
      },
      "outputs": [],
      "source": [
        "wafatisa_holidays= [\n",
        "    '2016-03-25',  # Wafat Isa Almasih\n",
        "    '2017-04-14',\n",
        "    '2018-03-30',\n",
        "    '2019-04-19',\n",
        "    '2020-04-10',\n",
        "    '2021-04-02',\n",
        "    '2022-04-15',\n",
        "]"
      ]
    },
    {
      "cell_type": "code",
      "execution_count": null,
      "metadata": {
        "id": "DzjrlDGwtQcw"
      },
      "outputs": [],
      "source": [
        "# Menambahkan kolom 'churn' berdasarkan libur wafat Isa Almasih\n",
        "df_combined['churn_wafatIsa'] = df_combined['date_month_year'].isin(wafatisa_holidays).astype(int)"
      ]
    },
    {
      "cell_type": "code",
      "source": [
        "df_combined['churn_wafatIsa'].value_counts()"
      ],
      "metadata": {
        "colab": {
          "base_uri": "https://localhost:8080/"
        },
        "id": "tBIT1UsbweZt",
        "outputId": "c726a690-b698-48c5-92b4-b6876f063401"
      },
      "execution_count": null,
      "outputs": [
        {
          "output_type": "execute_result",
          "data": {
            "text/plain": [
              "0    752791\n",
              "1      2005\n",
              "Name: churn_wafatIsa, dtype: int64"
            ]
          },
          "metadata": {},
          "execution_count": 32
        }
      ]
    },
    {
      "cell_type": "markdown",
      "metadata": {
        "id": "Hn-ZGeQUgnbK"
      },
      "source": [
        "## Waisak"
      ]
    },
    {
      "cell_type": "code",
      "execution_count": null,
      "metadata": {
        "id": "gcLeIO4ggtWA"
      },
      "outputs": [],
      "source": [
        "waisak_holidays= [\n",
        "    '2016-05-22',  # Hari Raya Waisak\n",
        "    '2017-05-10',\n",
        "    '2018-04-14',\n",
        "    '2019-04-21',\n",
        "    '2020-04-12',\n",
        "    '2021-04-13',\n",
        "    '2022-04-03',\n",
        "]"
      ]
    },
    {
      "cell_type": "code",
      "execution_count": null,
      "metadata": {
        "id": "cV_osWDVgwB6"
      },
      "outputs": [],
      "source": [
        "# Menambahkan kolom 'churn' berdasarkan libur waisak\n",
        "df_combined['churn_waisak'] = df_combined['date_month_year'].isin(waisak_holidays).astype(int)"
      ]
    },
    {
      "cell_type": "code",
      "source": [
        "df_combined['churn_waisak'].value_counts()"
      ],
      "metadata": {
        "colab": {
          "base_uri": "https://localhost:8080/"
        },
        "id": "5-gOacnuwn8F",
        "outputId": "81814807-852e-4a43-dc08-7af6892a17ed"
      },
      "execution_count": null,
      "outputs": [
        {
          "output_type": "execute_result",
          "data": {
            "text/plain": [
              "0    752275\n",
              "1      2521\n",
              "Name: churn_waisak, dtype: int64"
            ]
          },
          "metadata": {},
          "execution_count": 35
        }
      ]
    },
    {
      "cell_type": "markdown",
      "metadata": {
        "id": "Mx_ofwVJgpHO"
      },
      "source": [
        "## Kenaikan Isa Almasih"
      ]
    },
    {
      "cell_type": "code",
      "execution_count": null,
      "metadata": {
        "id": "9UyD1A0zg3Fh"
      },
      "outputs": [],
      "source": [
        "easter_holidays= [\n",
        "    '2016-05-05',  # Kenaikan Isa Almasih\n",
        "    '2017-05-25',\n",
        "    '2018-05-10',\n",
        "    '2019-05-30',\n",
        "    '2020-05-21',\n",
        "    '2021-05-13',\n",
        "    '2022-05-26',\n",
        "]"
      ]
    },
    {
      "cell_type": "code",
      "execution_count": null,
      "metadata": {
        "id": "g3d-gF7cg5YF"
      },
      "outputs": [],
      "source": [
        "# Menambahkan kolom 'churn' berdasarkan libur kenaikan Isa Almasih\n",
        "df_combined['churn_easter'] = df_combined['date_month_year'].isin(easter_holidays).astype(int)"
      ]
    },
    {
      "cell_type": "code",
      "source": [
        "df_combined['churn_easter'].value_counts()"
      ],
      "metadata": {
        "colab": {
          "base_uri": "https://localhost:8080/"
        },
        "id": "wel0H6nAwuof",
        "outputId": "0e2ca567-97fd-4275-a664-3059abd49cfe"
      },
      "execution_count": null,
      "outputs": [
        {
          "output_type": "execute_result",
          "data": {
            "text/plain": [
              "0    752669\n",
              "1      2127\n",
              "Name: churn_easter, dtype: int64"
            ]
          },
          "metadata": {},
          "execution_count": 38
        }
      ]
    },
    {
      "cell_type": "markdown",
      "metadata": {
        "id": "KeBXUrtig_wg"
      },
      "source": [
        "## Idul Fitri"
      ]
    },
    {
      "cell_type": "code",
      "execution_count": null,
      "metadata": {
        "id": "uSWCucNWhDnW"
      },
      "outputs": [],
      "source": [
        "eidfitri_holidays= [\n",
        "    '2016-07-06',  # Hari Raya Idul Fitri\n",
        "    '2016-07-07',\n",
        "    '2017-06-25',\n",
        "    '2017-06-26',\n",
        "    '2018-06-13',\n",
        "    '2018-06-14',\n",
        "    '2018-06-15',\n",
        "    '2019-06-03',\n",
        "    '2019-06-04',\n",
        "    '2019-06-05',\n",
        "    '2020-05-22',\n",
        "    '2020-05-23',\n",
        "    '2020-05-24',\n",
        "    '2021-05-12',\n",
        "    '2021-05-13',\n",
        "    '2021-05-14',\n",
        "    '2022-04-30',\n",
        "    '2022-05-01',\n",
        "    '2022-05-02',\n",
        "]"
      ]
    },
    {
      "cell_type": "code",
      "execution_count": null,
      "metadata": {
        "id": "ywuswXtyhPgi"
      },
      "outputs": [],
      "source": [
        "# Menambahkan kolom 'churn' berdasarkan libur Isul Fitri\n",
        "df_combined['churn_eidfitri'] = df_combined['date_month_year'].isin(eidfitri_holidays).astype(int)"
      ]
    },
    {
      "cell_type": "code",
      "source": [
        "df_combined['churn_eidfitri'].value_counts()"
      ],
      "metadata": {
        "colab": {
          "base_uri": "https://localhost:8080/"
        },
        "id": "ITLcuHynw35a",
        "outputId": "ce3ccaf5-7338-4015-bcc4-36f35e8bc51b"
      },
      "execution_count": null,
      "outputs": [
        {
          "output_type": "execute_result",
          "data": {
            "text/plain": [
              "0    747739\n",
              "1      7057\n",
              "Name: churn_eidfitri, dtype: int64"
            ]
          },
          "metadata": {},
          "execution_count": 42
        }
      ]
    },
    {
      "cell_type": "markdown",
      "metadata": {
        "id": "X703UYn-hVOo"
      },
      "source": [
        "## HUT RI"
      ]
    },
    {
      "cell_type": "code",
      "execution_count": null,
      "metadata": {
        "id": "XQzyPu3ehYNl"
      },
      "outputs": [],
      "source": [
        "independenceday_holidays= [\n",
        "\t'2016-08-17',  # Hari Kemerdekaan RI\n",
        "  '2017-08-17',\n",
        "  '2018-08-17',\n",
        "  '2019-08-17',\n",
        "  '2020-08-17',\n",
        "  '2021-08-17',\n",
        "  '2022-08-17',\n",
        "]"
      ]
    },
    {
      "cell_type": "code",
      "execution_count": null,
      "metadata": {
        "id": "qgFJ5XTKhbB9"
      },
      "outputs": [],
      "source": [
        "# Menambahkan kolom 'churn' berdasarkan libur HUT RI\n",
        "df_combined['churn_independenceday'] = df_combined['date_month_year'].isin(independenceday_holidays).astype(int)"
      ]
    },
    {
      "cell_type": "code",
      "source": [
        "df_combined['churn_independenceday'].value_counts()"
      ],
      "metadata": {
        "colab": {
          "base_uri": "https://localhost:8080/"
        },
        "id": "N80KY4dMxDKR",
        "outputId": "e2aed465-eb12-4b0c-e12f-4ba7e256846c"
      },
      "execution_count": null,
      "outputs": [
        {
          "output_type": "execute_result",
          "data": {
            "text/plain": [
              "0    753166\n",
              "1      1630\n",
              "Name: churn_independenceday, dtype: int64"
            ]
          },
          "metadata": {},
          "execution_count": 45
        }
      ]
    },
    {
      "cell_type": "markdown",
      "metadata": {
        "id": "pGbtkuyihj8P"
      },
      "source": [
        "## Idul Adha"
      ]
    },
    {
      "cell_type": "code",
      "execution_count": null,
      "metadata": {
        "id": "0FeOtNgzhlsE"
      },
      "outputs": [],
      "source": [
        "eidadha_holidays= [\n",
        "  '2016-09-12',  # Hari Raya Idul Adha\n",
        "  '2017-09-01',\n",
        "  '2018-08-22',\n",
        "  '2019-08-11',\n",
        "  '2020-07-31',\n",
        "  '2021-07-20',\n",
        "  '2022-07-09',\n",
        "]"
      ]
    },
    {
      "cell_type": "code",
      "execution_count": null,
      "metadata": {
        "id": "NmC28EtghqJN"
      },
      "outputs": [],
      "source": [
        "# Menambahkan kolom 'churn' berdasarkan libur Idul Adha\n",
        "df_combined['churn_eidadha'] = df_combined['date_month_year'].isin(eidadha_holidays).astype(int)"
      ]
    },
    {
      "cell_type": "code",
      "source": [
        "df_combined['churn_eidadha'].value_counts()"
      ],
      "metadata": {
        "colab": {
          "base_uri": "https://localhost:8080/"
        },
        "id": "k6GuATnRxMb1",
        "outputId": "d8b8503d-6257-4d98-d799-f6b4901e8e2b"
      },
      "execution_count": null,
      "outputs": [
        {
          "output_type": "execute_result",
          "data": {
            "text/plain": [
              "0    752435\n",
              "1      2361\n",
              "Name: churn_eidadha, dtype: int64"
            ]
          },
          "metadata": {},
          "execution_count": 48
        }
      ]
    },
    {
      "cell_type": "markdown",
      "metadata": {
        "id": "9MSlnr29hwIS"
      },
      "source": [
        "## Tahun Baru Islam"
      ]
    },
    {
      "cell_type": "code",
      "execution_count": null,
      "metadata": {
        "id": "C1tu5sDKhy-0"
      },
      "outputs": [],
      "source": [
        "islamicny_holidays= [\n",
        "  '2016-10-02',  # Tahun Baru Islam\n",
        "  '2017-09-22',\n",
        "  '2018-09-11',\n",
        "  '2019-09-01',\n",
        "  '2020-08-20',\n",
        "  '2021-08-10',\n",
        "  '2022-07-30',\n",
        "]\n"
      ]
    },
    {
      "cell_type": "code",
      "execution_count": null,
      "metadata": {
        "id": "jYWgKvLLh09N"
      },
      "outputs": [],
      "source": [
        "# Menambahkan kolom 'churn' berdasarkan libur Tahun Baru Islam\n",
        "df_combined['churn_islamicny'] = df_combined['date_month_year'].isin(islamicny_holidays).astype(int)"
      ]
    },
    {
      "cell_type": "code",
      "source": [
        "df_combined['churn_islamicny'].value_counts()"
      ],
      "metadata": {
        "colab": {
          "base_uri": "https://localhost:8080/"
        },
        "id": "43toqxYRxjsm",
        "outputId": "1b4b9db9-5b0f-4e24-837f-1067d2b2a472"
      },
      "execution_count": null,
      "outputs": [
        {
          "output_type": "execute_result",
          "data": {
            "text/plain": [
              "0    752635\n",
              "1      2161\n",
              "Name: churn_islamicny, dtype: int64"
            ]
          },
          "metadata": {},
          "execution_count": 51
        }
      ]
    },
    {
      "cell_type": "markdown",
      "metadata": {
        "id": "x0WeLJ1ph7AE"
      },
      "source": [
        "## Maulid Nabi"
      ]
    },
    {
      "cell_type": "code",
      "source": [],
      "metadata": {
        "id": "o5dWsbF0xf9h"
      },
      "execution_count": null,
      "outputs": []
    },
    {
      "cell_type": "code",
      "execution_count": null,
      "metadata": {
        "id": "nIdH_LZZh-EQ"
      },
      "outputs": [],
      "source": [
        "maulid_holidays= [\n",
        "  '2016-12-12',  # Maulid Nabi Muhammad SAW\n",
        "  '2017-12-01',\n",
        "  '2018-11-20',\n",
        "  '2019-11-09',\n",
        "  '2020-10-29',\n",
        "  '2021-10-19',\n",
        "  '2022-10-08',\n",
        "]"
      ]
    },
    {
      "cell_type": "code",
      "execution_count": null,
      "metadata": {
        "id": "04-QeBHSiAeK"
      },
      "outputs": [],
      "source": [
        "# Menambahkan kolom 'churn' berdasarkan libur Maulid Nabi\n",
        "df_combined['churn_maulid'] = df_combined['date_month_year'].isin(maulid_holidays).astype(int)"
      ]
    },
    {
      "cell_type": "code",
      "source": [
        "df_combined['churn_maulid'].value_counts()"
      ],
      "metadata": {
        "colab": {
          "base_uri": "https://localhost:8080/"
        },
        "id": "HFUd1XD_xufe",
        "outputId": "69ed8b98-f61c-45b9-cd59-508db7dedb18"
      },
      "execution_count": null,
      "outputs": [
        {
          "output_type": "execute_result",
          "data": {
            "text/plain": [
              "0    752930\n",
              "1      1866\n",
              "Name: churn_maulid, dtype: int64"
            ]
          },
          "metadata": {},
          "execution_count": 54
        }
      ]
    },
    {
      "cell_type": "markdown",
      "metadata": {
        "id": "EFsF07ZeiH3l"
      },
      "source": [
        "## Natal"
      ]
    },
    {
      "cell_type": "code",
      "execution_count": null,
      "metadata": {
        "id": "tD7BJntviFG7"
      },
      "outputs": [],
      "source": [
        "christmas_holidays= [\n",
        "    '2016-12-25'   # Natal\n",
        "    '2017-12-25'\n",
        "    '2018-12-25'\n",
        "    '2019-12-25'\n",
        "    '2020-12-25'\n",
        "    '2021-12-25'\n",
        "    '2022-12-25'\n",
        "]"
      ]
    },
    {
      "cell_type": "code",
      "execution_count": null,
      "metadata": {
        "id": "TmVTBgaPiLpO"
      },
      "outputs": [],
      "source": [
        "# Menambahkan kolom 'churn' berdasarkan Natal\n",
        "df_combined['churn_christmas'] = df_combined['date_month_year'].isin(christmas_holidays).astype(int)"
      ]
    },
    {
      "cell_type": "code",
      "source": [
        "df_combined['churn_christmas'].value_counts()"
      ],
      "metadata": {
        "id": "1mpXJe7Sx8LO",
        "outputId": "2e5aec2d-bf80-47e7-e766-c8a3280c5e43",
        "colab": {
          "base_uri": "https://localhost:8080/"
        }
      },
      "execution_count": null,
      "outputs": [
        {
          "output_type": "execute_result",
          "data": {
            "text/plain": [
              "0    754796\n",
              "Name: churn_christmas, dtype: int64"
            ]
          },
          "metadata": {},
          "execution_count": 57
        }
      ]
    },
    {
      "cell_type": "code",
      "execution_count": null,
      "metadata": {
        "colab": {
          "background_save": true
        },
        "id": "pD64T_4GvZtV"
      },
      "outputs": [],
      "source": [
        "df_combined"
      ]
    },
    {
      "cell_type": "code",
      "execution_count": null,
      "metadata": {
        "colab": {
          "background_save": true
        },
        "id": "AcsV_Pt6iV_p"
      },
      "outputs": [],
      "source": [
        "df_combined['churn_nyepi'].value_counts()"
      ]
    },
    {
      "cell_type": "code",
      "execution_count": null,
      "metadata": {
        "colab": {
          "background_save": true
        },
        "id": "1XL9OyV1v2n1"
      },
      "outputs": [],
      "source": [
        "df_combined.drop(['last_transaction', 'total_shipment', 'min_shipment', 'min_quantity', 'max_quantity', 'last_transaction', 'avg_web','avg_mobile', 'total_amount', 'total_promo_code', 'max_shipment', 'min_amount', 'max_amount', 'min_item_price', 'max_item_price', 'first_transaction'], axis=1, inplace=True)"
      ]
    },
    {
      "cell_type": "code",
      "execution_count": null,
      "metadata": {
        "colab": {
          "background_save": true
        },
        "id": "FY0xBMObv6AU"
      },
      "outputs": [],
      "source": [
        "df_combined.info()"
      ]
    },
    {
      "cell_type": "code",
      "execution_count": null,
      "metadata": {
        "colab": {
          "background_save": true
        },
        "id": "mViU2n8iwW3Q"
      },
      "outputs": [],
      "source": [
        "df_combined_cleaned = df_combined.dropna()"
      ]
    },
    {
      "cell_type": "code",
      "execution_count": null,
      "metadata": {
        "colab": {
          "background_save": true
        },
        "id": "4oHVaHw5v-O5"
      },
      "outputs": [],
      "source": [
        "# Mengecek null value\n",
        "df_combined_cleaned.isna().sum()"
      ]
    },
    {
      "cell_type": "code",
      "execution_count": null,
      "metadata": {
        "colab": {
          "background_save": true
        },
        "id": "P4f4FSPYwd7X"
      },
      "outputs": [],
      "source": [
        "df_combined_cleaned.drop(df_combined_cleaned[df_combined_cleaned['date_month_year'] == '1970-01-01'].index, inplace=True)"
      ]
    },
    {
      "cell_type": "code",
      "execution_count": null,
      "metadata": {
        "colab": {
          "background_save": true
        },
        "id": "Zq1PCRNQvn43"
      },
      "outputs": [],
      "source": [
        "# Menggabungkan data_final dan df_customer berdasarkan kolom 'customer_id'\n",
        "df_churn_holidays = df_customer.merge(df_combined_cleaned, on='customer_id', how='inner')"
      ]
    },
    {
      "cell_type": "code",
      "execution_count": null,
      "metadata": {
        "colab": {
          "background_save": true
        },
        "id": "Ju-WjB3QnS_6"
      },
      "outputs": [],
      "source": [
        "df_churn_publicholidays = df_churn_holidays.copy()"
      ]
    },
    {
      "cell_type": "code",
      "execution_count": null,
      "metadata": {
        "colab": {
          "background_save": true
        },
        "id": "Ifttr7QLwrnF"
      },
      "outputs": [],
      "source": [
        "df_churn_publicholidays.shape"
      ]
    },
    {
      "cell_type": "code",
      "execution_count": null,
      "metadata": {
        "colab": {
          "background_save": true
        },
        "id": "7WZWS9OWws0k"
      },
      "outputs": [],
      "source": [
        "df_master_publicholidays = pd.DataFrame(df_churn_publicholidays)\n",
        "\n",
        "# Menggabungkan kolom last_name dan first_name menjadi kolom nama\n",
        "df_master_publicholidays['name'] = df_master_publicholidays['first_name'] + ' ' + df_master_publicholidays['last_name']\n",
        "\n",
        "# Memasukkan kolom 'nama' ke posisi kedua\n",
        "df_master_publicholidays.insert(1, 'name', df_master_publicholidays.pop('name'))\n",
        "\n",
        "# Menampilkan DataFrame\n",
        "df_master_publicholidays.head(2)"
      ]
    },
    {
      "cell_type": "code",
      "execution_count": null,
      "metadata": {
        "colab": {
          "background_save": true
        },
        "id": "XWEBRrAww9L5"
      },
      "outputs": [],
      "source": [
        "df_master_publicholidays = df_master_publicholidays.drop(['first_name', 'last_name'], axis=1)"
      ]
    },
    {
      "cell_type": "code",
      "execution_count": null,
      "metadata": {
        "colab": {
          "background_save": true
        },
        "id": "SvPihy2nxATM"
      },
      "outputs": [],
      "source": [
        "import numpy as np\n",
        "# Menggabungkan transaksi berdasarkan customer_id\n",
        "df_master_publicholidays = df_master_publicholidays.groupby('customer_id').agg({\n",
        "    'name': 'first',\n",
        "    'username': 'first',\n",
        "    'email': 'first',\n",
        "    'gender': 'first',\n",
        "    'birthdate': 'first',\n",
        "    'device_type': 'first',\n",
        "    'device_id': 'first',\n",
        "    'device_version': 'first',\n",
        "    'home_location_lat': 'first',\n",
        "    'home_location_long': 'first',\n",
        "    'home_country': 'first',\n",
        "    'first_join_date': 'first',\n",
        "    'umur': 'first',\n",
        "    'subscription_duration': 'first',\n",
        "    'average_spending': 'sum',\n",
        "    'avg_amount': 'sum',\n",
        "    'total_quantity': 'sum',\n",
        "    'avg_quantity': 'sum',\n",
        "    'avg_item_price': 'sum',\n",
        "    'frequency_trx': 'sum',\n",
        "    'total_unique_product': 'sum',\n",
        "    'total_promo_amount': 'sum',\n",
        "    'avg_homepage': 'mean',\n",
        "    'avg_scroll': 'mean',\n",
        "    'avg_click': 'mean',\n",
        "    'item_detail': 'mean',\n",
        "    'avg_promo_page': 'mean',\n",
        "    'avg_search': 'mean',\n",
        "    'avg_add_to_cart': 'mean',\n",
        "    'avg_add_promo': 'mean',\n",
        "    'churn_newyear': 'max',\n",
        "    'churn_cny': 'max',\n",
        "    'churn_nyepi': 'max',\n",
        "    'churn_wafatIsa': 'max',\n",
        "    'churn_waisak': 'max',\n",
        "    'churn_easter': 'max',\n",
        "    'churn_eidfitri': 'max',\n",
        "    'churn_independenceday': 'max',\n",
        "    'churn_eidadha': 'max',\n",
        "    'churn_islamicny': 'max',\n",
        "    'churn_maulid': 'max',\n",
        "    'churn_christmas': 'max',\n",
        "}).reset_index()"
      ]
    },
    {
      "cell_type": "code",
      "execution_count": null,
      "metadata": {
        "colab": {
          "background_save": true
        },
        "id": "pJWdoyIhxLCI"
      },
      "outputs": [],
      "source": [
        "df_master_publicholidays.head()"
      ]
    },
    {
      "cell_type": "code",
      "execution_count": null,
      "metadata": {
        "colab": {
          "background_save": true
        },
        "id": "TBPYWdfjxNWU"
      },
      "outputs": [],
      "source": [
        "df_master_publicholidays['churn_newyear'].value_counts()"
      ]
    },
    {
      "cell_type": "code",
      "execution_count": null,
      "metadata": {
        "colab": {
          "background_save": true
        },
        "id": "UAwRzGMCxdsN"
      },
      "outputs": [],
      "source": [
        "import matplotlib.pyplot as plt\n",
        "# Data\n",
        "labels = ['No Churn', 'Churn']\n",
        "data = [df_master_publicholidays['churn_newyear'][df_master_publicholidays['churn_newyear'] == 0].count(),\n",
        "        df_master_publicholidays['churn_newyear'][df_master_publicholidays['churn_newyear'] == 1].count()]\n",
        "colors = ['skyblue', 'lightcoral']\n",
        "\n",
        "# Membuat bar chart\n",
        "plt.figure(figsize=(8, 6))\n",
        "plt.bar(labels, data, color=colors)\n",
        "\n",
        "# Menampilkan nilai di atas setiap bar\n",
        "for i, count in enumerate(data):\n",
        "    plt.text(labels[i], count, str(count), ha='center', va='bottom')\n",
        "\n",
        "# Menambahkan label pada sumbu x dan y\n",
        "plt.xlabel('Churn Status')\n",
        "plt.ylabel('Jumlah')\n",
        "\n",
        "# Memberikan judul pada bar chart\n",
        "plt.title('Churn Distribution')\n",
        "\n",
        "# Menampilkan bar chart\n",
        "plt.show()"
      ]
    },
    {
      "cell_type": "code",
      "execution_count": null,
      "metadata": {
        "colab": {
          "background_save": true
        },
        "id": "-vQ1rlNWoBSZ"
      },
      "outputs": [],
      "source": [
        "df_master_publicholidays.to_parquet('/content/drive/My Drive/[DS Final Project] Team Athena/[FIX] Dataset Churn Final/df_master_publicholidays.parquet', index=False)"
      ]
    },
    {
      "cell_type": "code",
      "execution_count": null,
      "metadata": {
        "colab": {
          "background_save": true
        },
        "id": "mrXguUPXoIKn"
      },
      "outputs": [],
      "source": [
        "df_master_publicholidays.to_csv('/content/drive/My Drive/[DS Final Project] Team Athena/[FIX] Dataset Churn Final/df_master_publicholidays.csv', index=False)"
      ]
    }
  ],
  "metadata": {
    "colab": {
      "machine_shape": "hm",
      "provenance": [],
      "authorship_tag": "ABX9TyOXTo6VjiCFQM/B8ZMMVkAL",
      "include_colab_link": true
    },
    "kernelspec": {
      "display_name": "Python 3",
      "name": "python3"
    },
    "language_info": {
      "name": "python"
    }
  },
  "nbformat": 4,
  "nbformat_minor": 0
}